{
  "nbformat": 4,
  "nbformat_minor": 0,
  "metadata": {
    "colab": {
      "name": "Untitled4.ipynb",
      "provenance": [],
      "collapsed_sections": []
    },
    "kernelspec": {
      "name": "python3",
      "display_name": "Python 3"
    },
    "language_info": {
      "name": "python"
    }
  },
  "cells": [
    {
      "cell_type": "code",
      "execution_count": null,
      "metadata": {
        "id": "dBceDaxMQ2DR"
      },
      "outputs": [],
      "source": [
        "#Install modules\n",
        "!pip install tweepy --ignore-installed\n",
        "!pip install flair"
      ]
    },
    {
      "cell_type": "code",
      "source": [
        "bearer = \"AAAAAAAAAAAAAAAAAAAAAFX0dgEAAAAAyFfcw9xHT%2Fdd5QZ18GX7KEZc2JQ%3DLKU3v8PWuHUbvGUey6J7xMVnzLfpMhBoImmZRypDdHj5rJL3Nf\"\n",
        "consumer_key = \"8MtwlW4Ckmg99qyFVaTWncGFa\"\n",
        "consumer_secret =\"88hapBobVGaepS2qDjSOqc3LbQGk4F8poTYTCg27Dkf0igtUWa\"\n",
        "access_token = \"1468287285380919296-Ds4yCiuHwztiz4BppPvODhkIEETgZu\"\n",
        "access_token_secret = \"C8Wd4USxmueuZIhOnJR7zxqZM4Vp2qERVvTHxv2PDMFVl\"\n",
        "\n",
        "\n"
      ],
      "metadata": {
        "id": "vU9yrgxWRJ1m"
      },
      "execution_count": null,
      "outputs": []
    },
    {
      "cell_type": "code",
      "source": [
        "#import Modules\n",
        "import tweepy\n",
        "import re\n",
        "import time\n",
        "\n",
        "\n",
        "from flair.models import TextClassifier\n",
        "from flair.data import Sentence"
      ],
      "metadata": {
        "id": "F4sEvE89WQIE"
      },
      "execution_count": null,
      "outputs": []
    },
    {
      "cell_type": "code",
      "source": [
        "#Initialize tweepy\n",
        "api= tweepy.Client(bearer,consumer_key,consumer_secret,access_token,access_token_secret)\n",
        "api.get_me()"
      ],
      "metadata": {
        "colab": {
          "base_uri": "https://localhost:8080/"
        },
        "id": "XD2RVu04X0FI",
        "outputId": "5d25ff7d-419d-4f2f-9d77-488ba3dfdf29"
      },
      "execution_count": null,
      "outputs": [
        {
          "output_type": "execute_result",
          "data": {
            "text/plain": [
              "Response(data=<User id=1468287285380919296 name=Nrebin Raj username=Nrebin_R>, includes={}, errors=[], meta={})"
            ]
          },
          "metadata": {},
          "execution_count": 4
        }
      ]
    },
    {
      "cell_type": "code",
      "source": [
        ""
      ],
      "metadata": {
        "id": "zuTTAbYlcUfJ"
      },
      "execution_count": null,
      "outputs": []
    },
    {
      "cell_type": "code",
      "source": [
        "# get tweets in realtime\n",
        "response = api.search_recent_tweets('#crypto')\n",
        "\n",
        "tweets = response.data\n",
        "for tweet in tweets:\n",
        "  print(tweet.text)\n",
        "  print('---------------------------------------------------')"
      ],
      "metadata": {
        "colab": {
          "base_uri": "https://localhost:8080/"
        },
        "id": "o9iCajgCeI-N",
        "outputId": "426df14c-9978-4829-a2c5-f1e8c2bd10a8"
      },
      "execution_count": null,
      "outputs": [
        {
          "output_type": "stream",
          "name": "stdout",
          "text": [
            "RT @HEXstreamers: HEX Token is live! @HEXcrypto\n",
            "\n",
            "\"Hex Crypto Life Will Be Turbo Charged On Pulsechain! Hex, Hedron, Maxi &amp; PLSD Crypto Pric…\n",
            "---------------------------------------------------\n",
            "RT @Wazzzup_wtf: WazZzzzuuuuuppppppp ⁉️⁉️\n",
            "\n",
            "Tmw @ 11pm UTC ⌚\n",
            "\n",
            "Be ready for the space 🚀🚀🛰️🛰️\n",
            "\n",
            "   https://t.co/aHEqEn1oRg     #nftcommunity #e…\n",
            "---------------------------------------------------\n",
            "Price Change 📊\n",
            "The price of CVCUSDT has go up by 1.36% \n",
            "Previous price: 0.1175 \n",
            "Current price: 0.1191\n",
            "\n",
            "#CVC, #CVCUSDT, #crypto, #pricegoup https://t.co/ojWuHy3MSL\n",
            "---------------------------------------------------\n",
            "bitcoin come have a cup of 🫖.\n",
            "#BTC #Crypto #Ethereum #BNBChain\n",
            "---------------------------------------------------\n",
            "RT @AisarCrypto: @Bit555_Official is here with multiple event ! 🖐\n",
            "\n",
            "-First deposit bonus !🎁\n",
            "-Risk-free sport betting ! ⚽️🏀\n",
            "-VIP transfer 💎\n",
            "-…\n",
            "---------------------------------------------------\n",
            "RT @CryptoKing1st: THIS IS YOUR ONE AND ONLY CHANCE! 😮\n",
            "\n",
            "$FRZSS listing on Bitmart on June 15th! \n",
            "\n",
            "$FRZSS coin has dropped in price. Buy the…\n",
            "---------------------------------------------------\n",
            "RT @ANTI_NFT_NFT: #FreeMint is NOW open to the public. \n",
            "➡️ https://t.co/dougnluLdt\n",
            "\n",
            "Help us spread the word…\n",
            "➡️ Retweet &amp; Tag 3 Frens\n",
            "\n",
            "No W…\n",
            "---------------------------------------------------\n",
            "👆🏽 \n",
            "“The country, led by bitcoin-bull President Nayib Bukele, holds 2,301 bitcoins and made the #crypto legal tender in September.” \n",
            "https://t.co/391zO3L2yl\n",
            "---------------------------------------------------\n",
            "悪魔の精神 Coming to @opensea ⚔️⚔️⚔️⚔️⚔️\n",
            "\n",
            "#SpiritOfAKUMA\n",
            "\n",
            "#NFTCollection #cryptoartist #ETH #nftart #NFT #nftcollector #cryptocurrency #NFTCommunity #Ethereum #NFTdrop #NFTs #crypto  #NFTCommunity https://t.co/Q9mzxdNuDE\n",
            "---------------------------------------------------\n",
            "RT @evolu_sorare: 🎁 CONCOURS SORARE 🎁\n",
            "\n",
            "ENZO LE FEE A GAGNER ! ⚽️⚽️\n",
            "\n",
            "Conditions pour participer  :\n",
            "\n",
            "- Follow @evolu_sorare \n",
            "- Retweet♻️\n",
            "- Li…\n",
            "---------------------------------------------------\n"
          ]
        }
      ]
    },
    {
      "cell_type": "code",
      "source": [
        "tweets"
      ],
      "metadata": {
        "colab": {
          "base_uri": "https://localhost:8080/"
        },
        "id": "ApT6HF-apMuH",
        "outputId": "4457a5b0-eb92-4ec0-cc96-315ceaba5610"
      },
      "execution_count": null,
      "outputs": [
        {
          "output_type": "execute_result",
          "data": {
            "text/plain": [
              "[<Tweet id=1536944681262751746 text='RT @HEXstreamers: HEX Token is live! @HEXcrypto\\n\\n\"Hex Crypto Life Will Be Turbo Charged On Pulsechain! Hex, Hedron, Maxi &amp; PLSD Crypto Pric…'>,\n",
              " <Tweet id=1536944679605792768 text='RT @Wazzzup_wtf: WazZzzzuuuuuppppppp ⁉️⁉️\\n\\nTmw @ 11pm UTC ⌚\\n\\nBe ready for the space 🚀🚀🛰️🛰️\\n\\n   https://t.co/aHEqEn1oRg     #nftcommunity #e…'>,\n",
              " <Tweet id=1536944678339284993 text='Price Change 📊\\nThe price of CVCUSDT has go up by 1.36% \\nPrevious price: 0.1175 \\nCurrent price: 0.1191\\n\\n#CVC, #CVCUSDT, #crypto, #pricegoup https://t.co/ojWuHy3MSL'>,\n",
              " <Tweet id=1536944672655802369 text='bitcoin come have a cup of \\U0001fad6.\\n#BTC #Crypto #Ethereum #BNBChain'>,\n",
              " <Tweet id=1536944671670140928 text='RT @AisarCrypto: @Bit555_Official is here with multiple event ! 🖐\\n\\n-First deposit bonus !🎁\\n-Risk-free sport betting ! ⚽️🏀\\n-VIP transfer 💎\\n-…'>,\n",
              " <Tweet id=1536944670881742849 text='RT @CryptoKing1st: THIS IS YOUR ONE AND ONLY CHANCE! 😮\\n\\n$FRZSS listing on Bitmart on June 15th! \\n\\n$FRZSS coin has dropped in price. Buy the…'>,\n",
              " <Tweet id=1536944670437253120 text='RT @ANTI_NFT_NFT: #FreeMint is NOW open to the public. \\n➡️ https://t.co/dougnluLdt\\n\\nHelp us spread the word…\\n➡️ Retweet &amp; Tag 3 Frens\\n\\nNo W…'>,\n",
              " <Tweet id=1536944670139420674 text='👆🏽 \\n“The country, led by bitcoin-bull President Nayib Bukele, holds 2,301 bitcoins and made the #crypto legal tender in September.” \\nhttps://t.co/391zO3L2yl'>,\n",
              " <Tweet id=1536944668847529985 text='悪魔の精神 Coming to @opensea ⚔️⚔️⚔️⚔️⚔️\\n\\n#SpiritOfAKUMA\\n\\n#NFTCollection #cryptoartist #ETH #nftart #NFT #nftcollector #cryptocurrency #NFTCommunity #Ethereum #NFTdrop #NFTs #crypto  #NFTCommunity https://t.co/Q9mzxdNuDE'>,\n",
              " <Tweet id=1536944667861958657 text='RT @evolu_sorare: 🎁 CONCOURS SORARE 🎁\\n\\nENZO LE FEE A GAGNER ! ⚽️⚽️\\n\\nConditions pour participer  :\\n\\n- Follow @evolu_sorare \\n- Retweet♻️\\n- Li…'>]"
            ]
          },
          "metadata": {},
          "execution_count": 6
        }
      ]
    },
    {
      "cell_type": "code",
      "source": [
        "def preprocess_text(text):\n",
        "  #convert to lower case\n",
        "  text = text.lower()\n",
        "  #remove user handle\n",
        "  text = re.sub(\"@[\\w]*\", \" \" , text)\n",
        "  # remove links (http....)\n",
        "  text = re.sub(\"http\\S+\",\" \",text)\n",
        "  #remove special characters and digit\n",
        "  text = re.sub(\"[^a-zA-Z#]\",\" \", text)\n",
        "  #remove RT characters\n",
        "  text = re.sub(\"rt\",\" \", text)\n",
        "  #remove additional spaces\n",
        "  text = re.sub(\"\\s+\", \" \" ,text)\n",
        "\n",
        "  return text\n",
        "\n"
      ],
      "metadata": {
        "id": "9mY532Ble_Iz"
      },
      "execution_count": null,
      "outputs": []
    },
    {
      "cell_type": "code",
      "source": [
        "tweet.text"
      ],
      "metadata": {
        "colab": {
          "base_uri": "https://localhost:8080/",
          "height": 56
        },
        "id": "FK-NmUcQg0_V",
        "outputId": "2df17b13-d14b-4349-e950-5f75abcd3dd3"
      },
      "execution_count": null,
      "outputs": [
        {
          "output_type": "execute_result",
          "data": {
            "text/plain": [
              "'RT @evolu_sorare: 🎁 CONCOURS SORARE 🎁\\n\\nENZO LE FEE A GAGNER ! ⚽️⚽️\\n\\nConditions pour participer  :\\n\\n- Follow @evolu_sorare \\n- Retweet♻️\\n- Li…'"
            ],
            "application/vnd.google.colaboratory.intrinsic+json": {
              "type": "string"
            }
          },
          "metadata": {},
          "execution_count": 8
        }
      ]
    },
    {
      "cell_type": "code",
      "source": [
        "preprocess_text(tweet.text)"
      ],
      "metadata": {
        "colab": {
          "base_uri": "https://localhost:8080/",
          "height": 38
        },
        "id": "KFWRmTSog5Qp",
        "outputId": "cc549c55-5f0d-46f5-d611-2a80e70c3468"
      },
      "execution_count": null,
      "outputs": [
        {
          "output_type": "execute_result",
          "data": {
            "text/plain": [
              "' concours sorare enzo le fee a gagner conditions pour pa iciper follow retweet li '"
            ],
            "application/vnd.google.colaboratory.intrinsic+json": {
              "type": "string"
            }
          },
          "metadata": {},
          "execution_count": 9
        }
      ]
    },
    {
      "cell_type": "code",
      "source": [
        "#create sentiment analysis function\n",
        "classifier = TextClassifier.load('en-sentiment')\n",
        "def get_sentiment(tweet):\n",
        "  sentence = Sentence(tweet)\n",
        "  classifier.predict(sentence)\n",
        "  return str(sentence.labels[0]).split()[-2:]\n"
      ],
      "metadata": {
        "colab": {
          "base_uri": "https://localhost:8080/"
        },
        "id": "41in4inzh4v_",
        "outputId": "e7d0f58f-7a09-481c-ca0a-b722627412a9"
      },
      "execution_count": null,
      "outputs": [
        {
          "output_type": "stream",
          "name": "stdout",
          "text": [
            "2022-06-15 07:14:03,014 loading file /root/.flair/models/sentiment-en-mix-distillbert_4.pt\n"
          ]
        }
      ]
    },
    {
      "cell_type": "code",
      "source": [
        "get_sentiment(tweet.text)"
      ],
      "metadata": {
        "colab": {
          "base_uri": "https://localhost:8080/"
        },
        "id": "dep1uxAnhSZW",
        "outputId": "6f4c7a35-5151-4764-88df-3329f86fa42f"
      },
      "execution_count": null,
      "outputs": [
        {
          "output_type": "execute_result",
          "data": {
            "text/plain": [
              "['NEGATIVE', '(0.9916)']"
            ]
          },
          "metadata": {},
          "execution_count": 23
        }
      ]
    },
    {
      "cell_type": "code",
      "source": [
        "while True:\n",
        "  tweets = api.search_recent_tweets('#crypto').data\n",
        "\n",
        "  for tweet in tweets:\n",
        "    original_tweet = tweet.text\n",
        "    clean_tweet = preprocess_text(original_tweet)\n",
        "    sentiment = get_sentiment(clean_tweet)\n",
        "\n",
        "    print('------------------tweet------------------')\n",
        "    print(original_tweet)\n",
        "    print('-----------------------------------------')\n",
        "    print('Sentiment:',sentiment)\n",
        "    time.sleep(1)\n",
        "    print('\\n\\n')\n",
        "\n"
      ],
      "metadata": {
        "id": "WZQh_syVkpwl",
        "colab": {
          "base_uri": "https://localhost:8080/"
        },
        "outputId": "d7fd761d-9bf4-4196-e878-42852b471101"
      },
      "execution_count": null,
      "outputs": [
        {
          "output_type": "stream",
          "name": "stdout",
          "text": [
            "------------------tweet------------------\n",
            "RT @asgar_maxbird: @MiloInuHelper @MiloInu $MILO 1000x 🚀🚀🚀\n",
            "$MILO TO THE MOON 🚀🚀🚀\n",
            "$MILO is a hidden gem 💎💎💎\n",
            "#MiloInu #MiloInuArmy #BSC #BNB…\n",
            "-----------------------------------------\n",
            "Sentiment: ['POSITIVE', '(0.9999)']\n",
            "\n",
            "\n",
            "\n",
            "------------------tweet------------------\n",
            "RT @AKIKA3878: #DUMBLE\n",
            "با سرمایه‌گذاری در DumbleDAO میتوانید از سود مضاعف آن بهره‌مند شوید. توکن  $Dumble بخرید NFT پاداش بگیرید.\n",
            "📛\n",
            "Twitter…\n",
            "-----------------------------------------\n",
            "Sentiment: ['NEGATIVE', '(0.9997)']\n",
            "\n",
            "\n",
            "\n",
            "------------------tweet------------------\n",
            "RT @Lusia_samurai2: @Subasasamuraei #RBXS \n",
            "#Crypto\n",
            "#RBXS\n",
            "-----------------------------------------\n",
            "Sentiment: ['POSITIVE', '(0.9036)']\n",
            "\n",
            "\n",
            "\n",
            "------------------tweet------------------\n",
            "#tehgoldenone 👀👇👇\n",
            "@TehGoldenOne #shiba #shibarmy #Cryptocrash #Crypto https://t.co/wDimSyRnzw\n",
            "-----------------------------------------\n",
            "Sentiment: ['POSITIVE', '(0.9972)']\n",
            "\n",
            "\n",
            "\n",
            "------------------tweet------------------\n",
            "I believe this is a faithful project.The projector has a lot of attractions so hopefully the project will be best in the future.\n",
            "@niladro_nil \n",
            "@njelma1 \n",
            "@laanik1\n",
            "@masu11m\n",
            "@mrakas0\n",
            "#Airdrop #Crypto #NFT https://t.co/ixCWnAAL9P\n",
            "-----------------------------------------\n",
            "Sentiment: ['POSITIVE', '(0.9983)']\n",
            "\n",
            "\n",
            "\n",
            "------------------tweet------------------\n",
            "RT @SAEID66_Samurai: 💫You will make significant progress with Dumbledore if you are a shareholder, the future is yours✴️\n",
            "🔵#DUMBLEDAI\n",
            "🟣#DUMB…\n",
            "-----------------------------------------\n",
            "Sentiment: ['NEGATIVE', '(0.9996)']\n",
            "\n",
            "\n",
            "\n",
            "------------------tweet------------------\n",
            "New High Price 📈 🚀\n",
            "BATUSDT has reached a new 24 hour high price @ 0.3044\n",
            "\n",
            "#BAT, #BATUSDT, #crypto, #GetProfit https://t.co/3Rdf0C6VOc\n",
            "-----------------------------------------\n",
            "Sentiment: ['POSITIVE', '(0.9953)']\n",
            "\n",
            "\n",
            "\n",
            "------------------tweet------------------\n",
            "RT @javad5366: @CoinMarketCap https://t.co/H1wanQwQFT \n",
            "\n",
            "Trade #Crypto, #Commodities and #Forex all in one place! \n",
            "\n",
            "Generate your AFFILIATE…\n",
            "-----------------------------------------\n",
            "Sentiment: ['NEGATIVE', '(0.6133)']\n",
            "\n",
            "\n",
            "\n",
            "------------------tweet------------------\n",
            "Bank of Canada's Official: Crypto Needs Regulation Before It Becomes 'a Lot Larger'\n",
            "\n",
            "https://t.co/ATlxYfpi1T\n",
            "\n",
            "#bitcoin #NFT #blockchain #BTC #Airdrop #cryptocurrency #BSC #ETH #Ethereum #ICO #BTC #Crypto #BNB #altcoins\n",
            "-----------------------------------------\n",
            "Sentiment: ['POSITIVE', '(0.9737)']\n",
            "\n",
            "\n",
            "\n",
            "------------------tweet------------------\n",
            "@Alexandrstorm_ https://t.co/jLOtyrj4gy       Join and thank me later👆👆. #btc #Crypto #cryptocurrency #Bitcoin #ADA #NFTCommunity #ElonMusk #Binance  #SolanaNFTs #NFT #AirPods #invest #Canada #cryptocurrencies #USDT\n",
            "-----------------------------------------\n",
            "Sentiment: ['POSITIVE', '(0.9951)']\n",
            "\n",
            "\n",
            "\n",
            "------------------tweet------------------\n",
            "RT @CaesarNFTx: 💰 $250 CASH GIVEAWAY 💰\n",
            "\n",
            "Prize :\n",
            "🏆5 $SOL ($250)\n",
            "\n",
            "1⃣Follow @kubieth &amp; @Samuueth \n",
            "2⃣RT &amp; Like\n",
            "3⃣Tag 3 friends\n",
            "\n",
            "Bonus🎯 Turn on…\n",
            "-----------------------------------------\n",
            "Sentiment: ['POSITIVE', '(0.9751)']\n",
            "\n",
            "\n",
            "\n",
            "------------------tweet------------------\n",
            "@megumi_nbm Hi,\n",
            " I also like  #RadiusProtocol on #avax \n",
            "Using back-end team of #HEX project.\n",
            "https://t.co/OzpBzDWFmT\n",
            "I like  #crypto projects like @RadiusProtocol\n",
            "-----------------------------------------\n",
            "Sentiment: ['POSITIVE', '(0.9976)']\n",
            "\n",
            "\n",
            "\n",
            "------------------tweet------------------\n",
            "#probinex is making it easy and highly profitable, make it easy for yourself as you bag $PBX today.\n",
            "\n",
            "@Probinex1, #Probinex, #Crypto, #CryptoCurrency, #Exchange, #CryptoExchange, #ToTheMoon, https://t.co/3tdv3f1kxo\n",
            "-----------------------------------------\n",
            "Sentiment: ['POSITIVE', '(0.9978)']\n",
            "\n",
            "\n",
            "\n",
            "------------------tweet------------------\n",
            "RT @PeterSchiff: If #Bitcoin can collapse by 70% from $69,000 to under $21,000, it can just as easily fall another 70% down to $6,000. Give…\n",
            "-----------------------------------------\n",
            "Sentiment: ['NEGATIVE', '(1.0)']\n",
            "\n",
            "\n",
            "\n",
            "------------------tweet------------------\n",
            "RT @ZBexchange: #Bitcoin at 25K, What are you doing this week?\n",
            "\n",
            "#Ethereum #Crypto #Trading #Hodl #Sell #Cryptocurrency #Cryptocurrencies #E…\n",
            "-----------------------------------------\n",
            "Sentiment: ['NEGATIVE', '(0.8316)']\n",
            "\n",
            "\n",
            "\n",
            "------------------tweet------------------\n",
            "RT @javad5366: @CoinMarketCap https://t.co/H1wanQwQFT \n",
            "\n",
            "Trade #Crypto, #Commodities and #Forex all in one place! \n",
            "\n",
            "Generate your AFFILIATE…\n",
            "-----------------------------------------\n",
            "Sentiment: ['NEGATIVE', '(0.6133)']\n",
            "\n",
            "\n",
            "\n",
            "------------------tweet------------------\n",
            "video: #OpenSea Bot 🔶 NFT Trading Bot 2022 ☑️ Fast Buy / Sell NFT software ☑️ NFT Bot &gt;&gt; https://t.co/6hrrqB8KoJ \n",
            "#bitcoin #btc #virtual #metaverse #meta #metaverse #crypto #defi\n",
            "#unbanked #cryptocurrencies #trading #trade #btctrade #btctrading #btccrypro #btcprice #btcinfo…\n",
            "-----------------------------------------\n",
            "Sentiment: ['POSITIVE', '(0.993)']\n",
            "\n",
            "\n",
            "\n",
            "------------------tweet------------------\n",
            "🐳 #Cardano $ADA Whale ❤️laced!\n",
            "💰 Transaction Output: 9.1M ₳D₳ / 4.26M USD \n",
            "👁️ Tx info:\n",
            "➡️ https://t.co/QY5AMsAA6e\n",
            "\n",
            "🙏Support us:\n",
            "- Stake with  ☮️PEACE☮️ pool: https://t.co/Uztjjf2EbE\n",
            "- Stake with SHARP/EASY1/BOOST/GMBL\n",
            "#fintech #blockchain #crypto\n",
            "-----------------------------------------\n",
            "Sentiment: ['POSITIVE', '(0.9107)']\n",
            "\n",
            "\n",
            "\n",
            "------------------tweet------------------\n",
            "@brinefinance #brinefinance #crypto #web3\n",
            "-----------------------------------------\n",
            "Sentiment: ['POSITIVE', '(0.9521)']\n",
            "\n",
            "\n",
            "\n",
            "------------------tweet------------------\n",
            "RT @CryptoTownEU: 🚀 Airdrop: Elite Meta\n",
            "💰 Value: 500 $ELI\n",
            "👥 Referral: 315,000 $ELI\n",
            "📊 Exchange: Opensea, Looksrare\n",
            "📅 End Date: 15th June, 20…\n",
            "-----------------------------------------\n",
            "Sentiment: ['POSITIVE', '(0.9766)']\n",
            "\n",
            "\n",
            "\n",
            "------------------tweet------------------\n",
            "RT @AisarCrypto: 100,000,000,000 LOVELY [Ends on 15th July]\n",
            "\n",
            "100 Lucky Participants will get 1B LOVELY \n",
            "\n",
            "- Follow @Lovely_finance\n",
            "- Join TG…\n",
            "-----------------------------------------\n",
            "Sentiment: ['POSITIVE', '(0.9325)']\n",
            "\n",
            "\n",
            "\n",
            "------------------tweet------------------\n",
            "RT @saashaaaa79: #dumbledao \n",
            "مجموعه‌ای از #magicalmutts است که به نوبه خود مجموعه‌ای از #NFT است.\n",
            "\n",
            "📌  Linktree: https://t.co/lOSJGdtOLz  📌…\n",
            "-----------------------------------------\n",
            "Sentiment: ['POSITIVE', '(0.9468)']\n",
            "\n",
            "\n",
            "\n",
            "------------------tweet------------------\n",
            "RT @Emi2lizy: @MrBigWhaleREAL #AirCoin is the key to the future of #crypto \n",
            "\n",
            "https://t.co/IlKfbbjnYw\n",
            "\n",
            "@Aircoinreal\n",
            "#AirCoinDAOLabs #AirCoin…\n",
            "-----------------------------------------\n",
            "Sentiment: ['POSITIVE', '(0.9989)']\n",
            "\n",
            "\n",
            "\n",
            "------------------tweet------------------\n",
            "RT @CryptoTownEU: 🚀 Airdrop: Nova Pupa\n",
            "💰 Value: 100 $PUPA\n",
            "👥 Referral: 1000 $PUPA\n",
            "📒 Partnership: Chainlink, Buddy Marketing\n",
            "📅 End Date: 10th…\n",
            "-----------------------------------------\n",
            "Sentiment: ['POSITIVE', '(0.9964)']\n",
            "\n",
            "\n",
            "\n",
            "------------------tweet------------------\n",
            "🏃🏃🏃🏃🏃\n",
            "PAIR: #GMTUSDT\n",
            "\n",
            "Exchange with lowest price(#Binance):  0.59951\n",
            "Exchange with highest price(#Bitfinex): 0.66447\n",
            "Price Difference: 0.06496000000000002 \n",
            "Price Difference In %: 10.835515671131429\n",
            "🏃🏃🏃🏃🏃\n",
            "\n",
            "#cryptocurrencies #crypto #trading #arbitrager #bot\n",
            "-----------------------------------------\n",
            "Sentiment: ['POSITIVE', '(0.8259)']\n",
            "\n",
            "\n",
            "\n",
            "------------------tweet------------------\n",
            "RT @mulan_Samurai: هنر بازاریابهای حرفه‌ای تیم #RBXS بکار گیری گسترده‌ی تکنیکها و دانش بروز بازاریابی است فقط کافیست که تصمیم درست را بگیری…\n",
            "-----------------------------------------\n",
            "Sentiment: ['POSITIVE', '(0.9885)']\n",
            "\n",
            "\n",
            "\n",
            "------------------tweet------------------\n",
            "RT @javad5366: @CoinMarketCap https://t.co/H1wanQwQFT \n",
            "\n",
            "Trade #Crypto, #Commodities and #Forex all in one place! \n",
            "\n",
            "Generate your AFFILIATE…\n",
            "-----------------------------------------\n",
            "Sentiment: ['NEGATIVE', '(0.6133)']\n",
            "\n",
            "\n",
            "\n",
            "------------------tweet------------------\n",
            "RT @Sufia_samurai: RBXS is an amazing analysis team\n",
            "✨✨✨✨✨✨✨✨\n",
            "\n",
            "💣https://t.co/RdUkOtNUPr\n",
            "🧭Supply 100,000,000\n",
            "📯#RBXS #RBXSamurai\n",
            "📯#Crypto #cry…\n",
            "-----------------------------------------\n",
            "Sentiment: ['POSITIVE', '(0.999)']\n",
            "\n",
            "\n",
            "\n",
            "------------------tweet------------------\n",
            "The rays of the sun nutrish our need for warmth . https://t.co/1Czv9mjLLC  prices : 0.01 eth    #NFTProjects #nftart #NFTCommunity #opensea #Crypto #nftProject #cryptoart #nftcollector #NFT #nfts #NFTphotographers #NFTcollection https://t.co/4xXK7fvMjm\n",
            "-----------------------------------------\n",
            "Sentiment: ['NEGATIVE', '(0.66)']\n",
            "\n",
            "\n",
            "\n",
            "------------------tweet------------------\n",
            "#EverRise $RISE #EverRiseV3 #EverRevoke #DeFi #Crypto #Cryptocurrency #EverRiseNFT #NFT #NFTArt #Rise #Altcoin #Ethereum #Fantom #Utility https://t.co/Rh7l9YM8Es\n",
            "-----------------------------------------\n",
            "Sentiment: ['POSITIVE', '(0.9997)']\n",
            "\n",
            "\n",
            "\n",
            "------------------tweet------------------\n",
            "RT @Helmasamuraii: Leave your projects to us RBXS We will turn them into the best in the market with new strategies.\n",
            "\n",
            "https://t.co/aJLRQNhx…\n",
            "-----------------------------------------\n",
            "Sentiment: ['POSITIVE', '(0.8788)']\n",
            "\n",
            "\n",
            "\n",
            "------------------tweet------------------\n",
            "RT @CRYPT0DIAMOND: I'm going to make a call for a new project on the #cro #cronos #CronosChain \n",
            "\n",
            "@CrolonMars is run by a great team. KYC. D…\n",
            "-----------------------------------------\n",
            "Sentiment: ['POSITIVE', '(0.5064)']\n",
            "\n",
            "\n",
            "\n",
            "------------------tweet------------------\n",
            "Buy it now price\n",
            "https://t.co/BH0H1eZoZT\n",
            "#auction #web5\n",
            "\n",
            "#domains #domainnames #startup #startups #venturecapital #defi #technology #cryptocurrency #DAO #blockchain #crypto #bitcoin\n",
            "#ethereum #ico #btc\n",
            "#cryptotrading #bigdata #ai #tech #business #nft #nfts #DAOs #sales\n",
            "-----------------------------------------\n",
            "Sentiment: ['POSITIVE', '(0.9994)']\n",
            "\n",
            "\n",
            "\n",
            "------------------tweet------------------\n",
            "RT @CryptoTownEU: 🚀 Airdrop: Nova Pupa\n",
            "💰 Value: 100 $PUPA\n",
            "👥 Referral: 1000 $PUPA\n",
            "📒 Partnership: Chainlink, Buddy Marketing\n",
            "📅 End Date: 10th…\n",
            "-----------------------------------------\n",
            "Sentiment: ['POSITIVE', '(0.9964)']\n",
            "\n",
            "\n",
            "\n",
            "------------------tweet------------------\n",
            "🚀 #cointoday #cryptocurrency ⏫\n",
            "#BATUSDT 0.3015 | 6.31% | 🎰 6.73\n",
            "#BALUSDT 4.46 | -5.11% | 🎰 6.01\n",
            "\n",
            "Shall we say, 🔥 let's ... go‼️ #crypto #altcoins\n",
            "\n",
            "Join us https://t.co/eWldCw9ysu\n",
            "-----------------------------------------\n",
            "Sentiment: ['POSITIVE', '(0.9991)']\n"
          ]
        }
      ]
    },
    {
      "cell_type": "code",
      "source": [
        ""
      ],
      "metadata": {
        "id": "LypnaG8qtqj1"
      },
      "execution_count": null,
      "outputs": []
    }
  ]
}